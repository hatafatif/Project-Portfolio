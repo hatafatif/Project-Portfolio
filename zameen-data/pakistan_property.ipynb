{
 "cells": [
  {
   "cell_type": "code",
   "execution_count": 193,
   "metadata": {},
   "outputs": [],
   "source": [
    "import pandas as pd\n",
    "import numpy as np\n",
    "import matplotlib.pyplot as plt\n",
    "import seaborn as sns\n",
    "\n",
    "%matplotlib inline  \n",
    "import warnings\n",
    "warnings.filterwarnings('ignore')"
   ]
  },
  {
   "cell_type": "code",
   "execution_count": 194,
   "metadata": {},
   "outputs": [
    {
     "data": {
      "text/html": [
       "<div>\n",
       "<style scoped>\n",
       "    .dataframe tbody tr th:only-of-type {\n",
       "        vertical-align: middle;\n",
       "    }\n",
       "\n",
       "    .dataframe tbody tr th {\n",
       "        vertical-align: top;\n",
       "    }\n",
       "\n",
       "    .dataframe thead th {\n",
       "        text-align: right;\n",
       "    }\n",
       "</style>\n",
       "<table border=\"1\" class=\"dataframe\">\n",
       "  <thead>\n",
       "    <tr style=\"text-align: right;\">\n",
       "      <th></th>\n",
       "      <th>property_id</th>\n",
       "      <th>location_id</th>\n",
       "      <th>page_url</th>\n",
       "      <th>property_type</th>\n",
       "      <th>price</th>\n",
       "      <th>location</th>\n",
       "      <th>city</th>\n",
       "      <th>province_name</th>\n",
       "      <th>latitude</th>\n",
       "      <th>longitude</th>\n",
       "      <th>baths</th>\n",
       "      <th>area</th>\n",
       "      <th>purpose</th>\n",
       "      <th>bedrooms</th>\n",
       "      <th>date_added</th>\n",
       "      <th>agency</th>\n",
       "      <th>agent</th>\n",
       "      <th>Area Type</th>\n",
       "      <th>Area Size</th>\n",
       "      <th>Area Category</th>\n",
       "    </tr>\n",
       "  </thead>\n",
       "  <tbody>\n",
       "    <tr>\n",
       "      <th>0</th>\n",
       "      <td>237062</td>\n",
       "      <td>3325</td>\n",
       "      <td>https://www.zameen.com/Property/g_10_g_10_2_gr...</td>\n",
       "      <td>Flat</td>\n",
       "      <td>10000000</td>\n",
       "      <td>G-10</td>\n",
       "      <td>Islamabad</td>\n",
       "      <td>Islamabad Capital</td>\n",
       "      <td>33.679890</td>\n",
       "      <td>73.012640</td>\n",
       "      <td>2</td>\n",
       "      <td>4 Marla</td>\n",
       "      <td>For Sale</td>\n",
       "      <td>2</td>\n",
       "      <td>02-04-19</td>\n",
       "      <td>NaN</td>\n",
       "      <td>NaN</td>\n",
       "      <td>Marla</td>\n",
       "      <td>4.0</td>\n",
       "      <td>0-5 Marla</td>\n",
       "    </tr>\n",
       "    <tr>\n",
       "      <th>1</th>\n",
       "      <td>346905</td>\n",
       "      <td>3236</td>\n",
       "      <td>https://www.zameen.com/Property/e_11_2_service...</td>\n",
       "      <td>Flat</td>\n",
       "      <td>6900000</td>\n",
       "      <td>E-11</td>\n",
       "      <td>Islamabad</td>\n",
       "      <td>Islamabad Capital</td>\n",
       "      <td>33.700993</td>\n",
       "      <td>72.971492</td>\n",
       "      <td>3</td>\n",
       "      <td>5.6 Marla</td>\n",
       "      <td>For Sale</td>\n",
       "      <td>3</td>\n",
       "      <td>05-04-19</td>\n",
       "      <td>NaN</td>\n",
       "      <td>NaN</td>\n",
       "      <td>Marla</td>\n",
       "      <td>5.6</td>\n",
       "      <td>5-10 Marla</td>\n",
       "    </tr>\n",
       "    <tr>\n",
       "      <th>2</th>\n",
       "      <td>386513</td>\n",
       "      <td>764</td>\n",
       "      <td>https://www.zameen.com/Property/islamabad_g_15...</td>\n",
       "      <td>House</td>\n",
       "      <td>16500000</td>\n",
       "      <td>G-15</td>\n",
       "      <td>Islamabad</td>\n",
       "      <td>Islamabad Capital</td>\n",
       "      <td>33.631486</td>\n",
       "      <td>72.926559</td>\n",
       "      <td>6</td>\n",
       "      <td>8 Marla</td>\n",
       "      <td>For Sale</td>\n",
       "      <td>5</td>\n",
       "      <td>07-17-2019</td>\n",
       "      <td>NaN</td>\n",
       "      <td>NaN</td>\n",
       "      <td>Marla</td>\n",
       "      <td>8.0</td>\n",
       "      <td>5-10 Marla</td>\n",
       "    </tr>\n",
       "    <tr>\n",
       "      <th>3</th>\n",
       "      <td>656161</td>\n",
       "      <td>340</td>\n",
       "      <td>https://www.zameen.com/Property/islamabad_bani...</td>\n",
       "      <td>House</td>\n",
       "      <td>43500000</td>\n",
       "      <td>Bani Gala</td>\n",
       "      <td>Islamabad</td>\n",
       "      <td>Islamabad Capital</td>\n",
       "      <td>33.707573</td>\n",
       "      <td>73.151199</td>\n",
       "      <td>4</td>\n",
       "      <td>2 Kanal</td>\n",
       "      <td>For Sale</td>\n",
       "      <td>4</td>\n",
       "      <td>04-05-19</td>\n",
       "      <td>NaN</td>\n",
       "      <td>NaN</td>\n",
       "      <td>Kanal</td>\n",
       "      <td>2.0</td>\n",
       "      <td>1-5 Kanal</td>\n",
       "    </tr>\n",
       "    <tr>\n",
       "      <th>4</th>\n",
       "      <td>841645</td>\n",
       "      <td>3226</td>\n",
       "      <td>https://www.zameen.com/Property/dha_valley_dha...</td>\n",
       "      <td>House</td>\n",
       "      <td>7000000</td>\n",
       "      <td>DHA Defence</td>\n",
       "      <td>Islamabad</td>\n",
       "      <td>Islamabad Capital</td>\n",
       "      <td>33.492591</td>\n",
       "      <td>73.301339</td>\n",
       "      <td>3</td>\n",
       "      <td>8 Marla</td>\n",
       "      <td>For Sale</td>\n",
       "      <td>3</td>\n",
       "      <td>07-10-19</td>\n",
       "      <td>Easy Property</td>\n",
       "      <td>Muhammad Junaid Ceo Muhammad Shahid Director</td>\n",
       "      <td>Marla</td>\n",
       "      <td>8.0</td>\n",
       "      <td>5-10 Marla</td>\n",
       "    </tr>\n",
       "  </tbody>\n",
       "</table>\n",
       "</div>"
      ],
      "text/plain": [
       "   property_id  location_id  \\\n",
       "0       237062         3325   \n",
       "1       346905         3236   \n",
       "2       386513          764   \n",
       "3       656161          340   \n",
       "4       841645         3226   \n",
       "\n",
       "                                            page_url property_type     price  \\\n",
       "0  https://www.zameen.com/Property/g_10_g_10_2_gr...          Flat  10000000   \n",
       "1  https://www.zameen.com/Property/e_11_2_service...          Flat   6900000   \n",
       "2  https://www.zameen.com/Property/islamabad_g_15...         House  16500000   \n",
       "3  https://www.zameen.com/Property/islamabad_bani...         House  43500000   \n",
       "4  https://www.zameen.com/Property/dha_valley_dha...         House   7000000   \n",
       "\n",
       "      location       city      province_name   latitude  longitude  baths  \\\n",
       "0         G-10  Islamabad  Islamabad Capital  33.679890  73.012640      2   \n",
       "1         E-11  Islamabad  Islamabad Capital  33.700993  72.971492      3   \n",
       "2         G-15  Islamabad  Islamabad Capital  33.631486  72.926559      6   \n",
       "3    Bani Gala  Islamabad  Islamabad Capital  33.707573  73.151199      4   \n",
       "4  DHA Defence  Islamabad  Islamabad Capital  33.492591  73.301339      3   \n",
       "\n",
       "        area   purpose  bedrooms  date_added         agency  \\\n",
       "0    4 Marla  For Sale         2    02-04-19            NaN   \n",
       "1  5.6 Marla  For Sale         3    05-04-19            NaN   \n",
       "2    8 Marla  For Sale         5  07-17-2019            NaN   \n",
       "3    2 Kanal  For Sale         4    04-05-19            NaN   \n",
       "4    8 Marla  For Sale         3    07-10-19  Easy Property   \n",
       "\n",
       "                                          agent Area Type  Area Size  \\\n",
       "0                                           NaN     Marla        4.0   \n",
       "1                                           NaN     Marla        5.6   \n",
       "2                                           NaN     Marla        8.0   \n",
       "3                                           NaN     Kanal        2.0   \n",
       "4  Muhammad Junaid Ceo Muhammad Shahid Director     Marla        8.0   \n",
       "\n",
       "  Area Category  \n",
       "0     0-5 Marla  \n",
       "1    5-10 Marla  \n",
       "2    5-10 Marla  \n",
       "3     1-5 Kanal  \n",
       "4    5-10 Marla  "
      ]
     },
     "execution_count": 194,
     "metadata": {},
     "output_type": "execute_result"
    }
   ],
   "source": [
    "initial = pd.read_csv('zameen-data.csv')\n",
    "data = initial.copy()\n",
    "data.head()"
   ]
  },
  {
   "cell_type": "code",
   "execution_count": 195,
   "metadata": {},
   "outputs": [
    {
     "data": {
      "text/plain": [
       "(168446, 20)"
      ]
     },
     "execution_count": 195,
     "metadata": {},
     "output_type": "execute_result"
    }
   ],
   "source": [
    "data.shape"
   ]
  },
  {
   "cell_type": "code",
   "execution_count": 196,
   "metadata": {},
   "outputs": [
    {
     "name": "stdout",
     "output_type": "stream",
     "text": [
      "<class 'pandas.core.frame.DataFrame'>\n",
      "RangeIndex: 168446 entries, 0 to 168445\n",
      "Data columns (total 20 columns):\n",
      " #   Column         Non-Null Count   Dtype  \n",
      "---  ------         --------------   -----  \n",
      " 0   property_id    168446 non-null  int64  \n",
      " 1   location_id    168446 non-null  int64  \n",
      " 2   page_url       168446 non-null  object \n",
      " 3   property_type  168446 non-null  object \n",
      " 4   price          168446 non-null  int64  \n",
      " 5   location       168446 non-null  object \n",
      " 6   city           168446 non-null  object \n",
      " 7   province_name  168446 non-null  object \n",
      " 8   latitude       168446 non-null  float64\n",
      " 9   longitude      168446 non-null  float64\n",
      " 10  baths          168446 non-null  int64  \n",
      " 11  area           168446 non-null  object \n",
      " 12  purpose        168446 non-null  object \n",
      " 13  bedrooms       168446 non-null  int64  \n",
      " 14  date_added     168446 non-null  object \n",
      " 15  agency         124375 non-null  object \n",
      " 16  agent          124374 non-null  object \n",
      " 17  Area Type      168446 non-null  object \n",
      " 18  Area Size      168446 non-null  float64\n",
      " 19  Area Category  168446 non-null  object \n",
      "dtypes: float64(3), int64(5), object(12)\n",
      "memory usage: 25.7+ MB\n"
     ]
    }
   ],
   "source": [
    "data.info()"
   ]
  },
  {
   "cell_type": "code",
   "execution_count": 197,
   "metadata": {},
   "outputs": [
    {
     "data": {
      "text/plain": [
       "agency    44071\n",
       "agent     44072\n",
       "dtype: int64"
      ]
     },
     "execution_count": 197,
     "metadata": {},
     "output_type": "execute_result"
    }
   ],
   "source": [
    "data.isnull().sum()[data.isnull().sum()>0]"
   ]
  },
  {
   "cell_type": "markdown",
   "metadata": {},
   "source": [
    "<br><br>\n",
    "### Let us gather initial insights about the different columns of the data.\n"
   ]
  },
  {
   "cell_type": "markdown",
   "metadata": {},
   "source": [
    "- #### Make sure we do not have duplicates"
   ]
  },
  {
   "cell_type": "code",
   "execution_count": 198,
   "metadata": {},
   "outputs": [
    {
     "data": {
      "text/plain": [
       "0"
      ]
     },
     "execution_count": 198,
     "metadata": {},
     "output_type": "execute_result"
    }
   ],
   "source": [
    "data.duplicated().sum()"
   ]
  },
  {
   "cell_type": "markdown",
   "metadata": {},
   "source": [
    "- #### Number of properties from each city"
   ]
  },
  {
   "cell_type": "code",
   "execution_count": 199,
   "metadata": {},
   "outputs": [
    {
     "data": {
      "text/plain": [
       "Karachi       60484\n",
       "Lahore        41427\n",
       "Islamabad     37426\n",
       "Rawalpindi    20976\n",
       "Faisalabad     8133\n",
       "Name: city, dtype: int64"
      ]
     },
     "execution_count": 199,
     "metadata": {},
     "output_type": "execute_result"
    }
   ],
   "source": [
    "data.city.value_counts()"
   ]
  },
  {
   "cell_type": "markdown",
   "metadata": {},
   "source": [
    "Order seems to be somewhat expected. Karachi is the largest city in the list. Lahore is second, however the twin city combined has larger number of properties than Lahore, which also seems about right. Lastly Faisalabad is on last, which is also expected. "
   ]
  },
  {
   "cell_type": "markdown",
   "metadata": {},
   "source": [
    "- #### Checking to see if location ID and location corresponds to the same place."
   ]
  },
  {
   "cell_type": "code",
   "execution_count": 200,
   "metadata": {},
   "outputs": [
    {
     "name": "stdout",
     "output_type": "stream",
     "text": [
      "4198\n",
      "1509\n"
     ]
    }
   ],
   "source": [
    "print(data['location_id'].nunique())\n",
    "print(data['location'].nunique())"
   ]
  },
  {
   "cell_type": "markdown",
   "metadata": {},
   "source": [
    "So, we seem to have more location IDs than locations themselves. This means we do not have a 1 to 1 relation between location and location_id. Let us confirm this."
   ]
  },
  {
   "cell_type": "code",
   "execution_count": 201,
   "metadata": {},
   "outputs": [
    {
     "data": {
      "text/html": [
       "<div>\n",
       "<style scoped>\n",
       "    .dataframe tbody tr th:only-of-type {\n",
       "        vertical-align: middle;\n",
       "    }\n",
       "\n",
       "    .dataframe tbody tr th {\n",
       "        vertical-align: top;\n",
       "    }\n",
       "\n",
       "    .dataframe thead th {\n",
       "        text-align: right;\n",
       "    }\n",
       "</style>\n",
       "<table border=\"1\" class=\"dataframe\">\n",
       "  <thead>\n",
       "    <tr style=\"text-align: right;\">\n",
       "      <th></th>\n",
       "      <th>location</th>\n",
       "      <th>location_id</th>\n",
       "      <th>properties</th>\n",
       "    </tr>\n",
       "  </thead>\n",
       "  <tbody>\n",
       "    <tr>\n",
       "      <th>0</th>\n",
       "      <td>12th Avenue</td>\n",
       "      <td>12288</td>\n",
       "      <td>4</td>\n",
       "    </tr>\n",
       "    <tr>\n",
       "      <th>1</th>\n",
       "      <td>204 Chak Road</td>\n",
       "      <td>9511</td>\n",
       "      <td>8</td>\n",
       "    </tr>\n",
       "    <tr>\n",
       "      <th>2</th>\n",
       "      <td>7th Avenue</td>\n",
       "      <td>3104</td>\n",
       "      <td>48</td>\n",
       "    </tr>\n",
       "    <tr>\n",
       "      <th>3</th>\n",
       "      <td>9th Avenue</td>\n",
       "      <td>3105</td>\n",
       "      <td>27</td>\n",
       "    </tr>\n",
       "    <tr>\n",
       "      <th>4</th>\n",
       "      <td>AGHOSH</td>\n",
       "      <td>1468</td>\n",
       "      <td>1</td>\n",
       "    </tr>\n",
       "  </tbody>\n",
       "</table>\n",
       "</div>"
      ],
      "text/plain": [
       "        location  location_id  properties\n",
       "0    12th Avenue        12288           4\n",
       "1  204 Chak Road         9511           8\n",
       "2     7th Avenue         3104          48\n",
       "3     9th Avenue         3105          27\n",
       "4         AGHOSH         1468           1"
      ]
     },
     "execution_count": 201,
     "metadata": {},
     "output_type": "execute_result"
    }
   ],
   "source": [
    "locations_data = data.groupby(by=['location', 'location_id']).size().reset_index().rename(columns = {0: 'properties'})\n",
    "locations_data.head()"
   ]
  },
  {
   "cell_type": "code",
   "execution_count": 202,
   "metadata": {},
   "outputs": [
    {
     "data": {
      "text/html": [
       "<div>\n",
       "<style scoped>\n",
       "    .dataframe tbody tr th:only-of-type {\n",
       "        vertical-align: middle;\n",
       "    }\n",
       "\n",
       "    .dataframe tbody tr th {\n",
       "        vertical-align: top;\n",
       "    }\n",
       "\n",
       "    .dataframe thead th {\n",
       "        text-align: right;\n",
       "    }\n",
       "</style>\n",
       "<table border=\"1\" class=\"dataframe\">\n",
       "  <thead>\n",
       "    <tr style=\"text-align: right;\">\n",
       "      <th></th>\n",
       "      <th>location</th>\n",
       "      <th>location_id</th>\n",
       "      <th>properties</th>\n",
       "    </tr>\n",
       "  </thead>\n",
       "  <tbody>\n",
       "    <tr>\n",
       "      <th>5</th>\n",
       "      <td>AGHOSH</td>\n",
       "      <td>3107</td>\n",
       "      <td>5</td>\n",
       "    </tr>\n",
       "    <tr>\n",
       "      <th>11</th>\n",
       "      <td>AWT Army Welfare Trust</td>\n",
       "      <td>3581</td>\n",
       "      <td>7</td>\n",
       "    </tr>\n",
       "    <tr>\n",
       "      <th>12</th>\n",
       "      <td>AWT Army Welfare Trust</td>\n",
       "      <td>8212</td>\n",
       "      <td>1</td>\n",
       "    </tr>\n",
       "    <tr>\n",
       "      <th>13</th>\n",
       "      <td>AWT Army Welfare Trust</td>\n",
       "      <td>8213</td>\n",
       "      <td>1</td>\n",
       "    </tr>\n",
       "    <tr>\n",
       "      <th>14</th>\n",
       "      <td>AWT Army Welfare Trust</td>\n",
       "      <td>8216</td>\n",
       "      <td>1</td>\n",
       "    </tr>\n",
       "    <tr>\n",
       "      <th>...</th>\n",
       "      <td>...</td>\n",
       "      <td>...</td>\n",
       "      <td>...</td>\n",
       "    </tr>\n",
       "    <tr>\n",
       "      <th>4189</th>\n",
       "      <td>Zaraj Housing Scheme</td>\n",
       "      <td>3509</td>\n",
       "      <td>8</td>\n",
       "    </tr>\n",
       "    <tr>\n",
       "      <th>4190</th>\n",
       "      <td>Zaraj Housing Scheme</td>\n",
       "      <td>3510</td>\n",
       "      <td>1</td>\n",
       "    </tr>\n",
       "    <tr>\n",
       "      <th>4191</th>\n",
       "      <td>Zaraj Housing Scheme</td>\n",
       "      <td>3511</td>\n",
       "      <td>16</td>\n",
       "    </tr>\n",
       "    <tr>\n",
       "      <th>4192</th>\n",
       "      <td>Zaraj Housing Scheme</td>\n",
       "      <td>3512</td>\n",
       "      <td>5</td>\n",
       "    </tr>\n",
       "    <tr>\n",
       "      <th>4193</th>\n",
       "      <td>Zaraj Housing Scheme</td>\n",
       "      <td>9709</td>\n",
       "      <td>13</td>\n",
       "    </tr>\n",
       "  </tbody>\n",
       "</table>\n",
       "<p>2693 rows × 3 columns</p>\n",
       "</div>"
      ],
      "text/plain": [
       "                    location  location_id  properties\n",
       "5                     AGHOSH         3107           5\n",
       "11    AWT Army Welfare Trust         3581           7\n",
       "12    AWT Army Welfare Trust         8212           1\n",
       "13    AWT Army Welfare Trust         8213           1\n",
       "14    AWT Army Welfare Trust         8216           1\n",
       "...                      ...          ...         ...\n",
       "4189    Zaraj Housing Scheme         3509           8\n",
       "4190    Zaraj Housing Scheme         3510           1\n",
       "4191    Zaraj Housing Scheme         3511          16\n",
       "4192    Zaraj Housing Scheme         3512           5\n",
       "4193    Zaraj Housing Scheme         9709          13\n",
       "\n",
       "[2693 rows x 3 columns]"
      ]
     },
     "execution_count": 202,
     "metadata": {},
     "output_type": "execute_result"
    }
   ],
   "source": [
    "locations_data[locations_data.location.duplicated()]"
   ]
  },
  {
   "cell_type": "markdown",
   "metadata": {},
   "source": [
    "This table shows how there are multiple location IDs for the same location. "
   ]
  },
  {
   "cell_type": "markdown",
   "metadata": {},
   "source": [
    "<br><br>\n",
    "### Engineering the columns that are of use to us "
   ]
  },
  {
   "cell_type": "markdown",
   "metadata": {},
   "source": [
    "- #### Let us drop the columns that are of not much use to us"
   ]
  },
  {
   "cell_type": "code",
   "execution_count": 203,
   "metadata": {},
   "outputs": [
    {
     "data": {
      "text/plain": [
       "(168446, 17)"
      ]
     },
     "execution_count": 203,
     "metadata": {},
     "output_type": "execute_result"
    }
   ],
   "source": [
    "drop_col = ['page_url', 'agency', 'agent']\n",
    "data.drop(columns=drop_col, inplace=True)\n",
    "data.shape"
   ]
  },
  {
   "cell_type": "code",
   "execution_count": 204,
   "metadata": {},
   "outputs": [
    {
     "data": {
      "text/plain": [
       "For Sale    120655\n",
       "For Rent     47791\n",
       "Name: purpose, dtype: int64"
      ]
     },
     "execution_count": 204,
     "metadata": {},
     "output_type": "execute_result"
    }
   ],
   "source": [
    "data.purpose.value_counts()"
   ]
  },
  {
   "cell_type": "code",
   "execution_count": 205,
   "metadata": {},
   "outputs": [
    {
     "data": {
      "text/html": [
       "<div>\n",
       "<style scoped>\n",
       "    .dataframe tbody tr th:only-of-type {\n",
       "        vertical-align: middle;\n",
       "    }\n",
       "\n",
       "    .dataframe tbody tr th {\n",
       "        vertical-align: top;\n",
       "    }\n",
       "\n",
       "    .dataframe thead th {\n",
       "        text-align: right;\n",
       "    }\n",
       "</style>\n",
       "<table border=\"1\" class=\"dataframe\">\n",
       "  <thead>\n",
       "    <tr style=\"text-align: right;\">\n",
       "      <th></th>\n",
       "      <th>property_id</th>\n",
       "      <th>location_id</th>\n",
       "      <th>property_type</th>\n",
       "      <th>price</th>\n",
       "      <th>location</th>\n",
       "      <th>city</th>\n",
       "      <th>province_name</th>\n",
       "      <th>latitude</th>\n",
       "      <th>longitude</th>\n",
       "      <th>baths</th>\n",
       "      <th>area</th>\n",
       "      <th>purpose</th>\n",
       "      <th>bedrooms</th>\n",
       "      <th>date_added</th>\n",
       "      <th>Area Type</th>\n",
       "      <th>Area Size</th>\n",
       "      <th>Area Category</th>\n",
       "    </tr>\n",
       "  </thead>\n",
       "  <tbody>\n",
       "    <tr>\n",
       "      <th>0</th>\n",
       "      <td>237062</td>\n",
       "      <td>3325</td>\n",
       "      <td>Flat</td>\n",
       "      <td>10000000</td>\n",
       "      <td>G-10</td>\n",
       "      <td>Islamabad</td>\n",
       "      <td>Islamabad Capital</td>\n",
       "      <td>33.679890</td>\n",
       "      <td>73.012640</td>\n",
       "      <td>2</td>\n",
       "      <td>4 Marla</td>\n",
       "      <td>For Sale</td>\n",
       "      <td>2</td>\n",
       "      <td>02-04-19</td>\n",
       "      <td>Marla</td>\n",
       "      <td>4.0</td>\n",
       "      <td>0-5 Marla</td>\n",
       "    </tr>\n",
       "    <tr>\n",
       "      <th>1</th>\n",
       "      <td>346905</td>\n",
       "      <td>3236</td>\n",
       "      <td>Flat</td>\n",
       "      <td>6900000</td>\n",
       "      <td>E-11</td>\n",
       "      <td>Islamabad</td>\n",
       "      <td>Islamabad Capital</td>\n",
       "      <td>33.700993</td>\n",
       "      <td>72.971492</td>\n",
       "      <td>3</td>\n",
       "      <td>5.6 Marla</td>\n",
       "      <td>For Sale</td>\n",
       "      <td>3</td>\n",
       "      <td>05-04-19</td>\n",
       "      <td>Marla</td>\n",
       "      <td>5.6</td>\n",
       "      <td>5-10 Marla</td>\n",
       "    </tr>\n",
       "    <tr>\n",
       "      <th>2</th>\n",
       "      <td>386513</td>\n",
       "      <td>764</td>\n",
       "      <td>House</td>\n",
       "      <td>16500000</td>\n",
       "      <td>G-15</td>\n",
       "      <td>Islamabad</td>\n",
       "      <td>Islamabad Capital</td>\n",
       "      <td>33.631486</td>\n",
       "      <td>72.926559</td>\n",
       "      <td>6</td>\n",
       "      <td>8 Marla</td>\n",
       "      <td>For Sale</td>\n",
       "      <td>5</td>\n",
       "      <td>07-17-2019</td>\n",
       "      <td>Marla</td>\n",
       "      <td>8.0</td>\n",
       "      <td>5-10 Marla</td>\n",
       "    </tr>\n",
       "    <tr>\n",
       "      <th>3</th>\n",
       "      <td>656161</td>\n",
       "      <td>340</td>\n",
       "      <td>House</td>\n",
       "      <td>43500000</td>\n",
       "      <td>Bani Gala</td>\n",
       "      <td>Islamabad</td>\n",
       "      <td>Islamabad Capital</td>\n",
       "      <td>33.707573</td>\n",
       "      <td>73.151199</td>\n",
       "      <td>4</td>\n",
       "      <td>2 Kanal</td>\n",
       "      <td>For Sale</td>\n",
       "      <td>4</td>\n",
       "      <td>04-05-19</td>\n",
       "      <td>Kanal</td>\n",
       "      <td>2.0</td>\n",
       "      <td>1-5 Kanal</td>\n",
       "    </tr>\n",
       "    <tr>\n",
       "      <th>4</th>\n",
       "      <td>841645</td>\n",
       "      <td>3226</td>\n",
       "      <td>House</td>\n",
       "      <td>7000000</td>\n",
       "      <td>DHA Defence</td>\n",
       "      <td>Islamabad</td>\n",
       "      <td>Islamabad Capital</td>\n",
       "      <td>33.492591</td>\n",
       "      <td>73.301339</td>\n",
       "      <td>3</td>\n",
       "      <td>8 Marla</td>\n",
       "      <td>For Sale</td>\n",
       "      <td>3</td>\n",
       "      <td>07-10-19</td>\n",
       "      <td>Marla</td>\n",
       "      <td>8.0</td>\n",
       "      <td>5-10 Marla</td>\n",
       "    </tr>\n",
       "  </tbody>\n",
       "</table>\n",
       "</div>"
      ],
      "text/plain": [
       "   property_id  location_id property_type     price     location       city  \\\n",
       "0       237062         3325          Flat  10000000         G-10  Islamabad   \n",
       "1       346905         3236          Flat   6900000         E-11  Islamabad   \n",
       "2       386513          764         House  16500000         G-15  Islamabad   \n",
       "3       656161          340         House  43500000    Bani Gala  Islamabad   \n",
       "4       841645         3226         House   7000000  DHA Defence  Islamabad   \n",
       "\n",
       "       province_name   latitude  longitude  baths       area   purpose  \\\n",
       "0  Islamabad Capital  33.679890  73.012640      2    4 Marla  For Sale   \n",
       "1  Islamabad Capital  33.700993  72.971492      3  5.6 Marla  For Sale   \n",
       "2  Islamabad Capital  33.631486  72.926559      6    8 Marla  For Sale   \n",
       "3  Islamabad Capital  33.707573  73.151199      4    2 Kanal  For Sale   \n",
       "4  Islamabad Capital  33.492591  73.301339      3    8 Marla  For Sale   \n",
       "\n",
       "   bedrooms  date_added Area Type  Area Size Area Category  \n",
       "0         2    02-04-19     Marla        4.0     0-5 Marla  \n",
       "1         3    05-04-19     Marla        5.6    5-10 Marla  \n",
       "2         5  07-17-2019     Marla        8.0    5-10 Marla  \n",
       "3         4    04-05-19     Kanal        2.0     1-5 Kanal  \n",
       "4         3    07-10-19     Marla        8.0    5-10 Marla  "
      ]
     },
     "execution_count": 205,
     "metadata": {},
     "output_type": "execute_result"
    }
   ],
   "source": [
    "data.head()"
   ]
  },
  {
   "cell_type": "markdown",
   "metadata": {},
   "source": [
    "- #### The date_added column is not only in the wrong format (object, instead of a datetime format), but it is also inconsistent. This is a nightmare, but there is a clever way of solving this."
   ]
  },
  {
   "cell_type": "code",
   "execution_count": 206,
   "metadata": {},
   "outputs": [
    {
     "data": {
      "text/plain": [
       "07-03-19      9485\n",
       "07-17-2019    8058\n",
       "07-04-19      6815\n",
       "06-27-2019    6639\n",
       "07-02-19      6604\n",
       "              ... \n",
       "09-08-18         6\n",
       "10-05-18         6\n",
       "09-05-18         3\n",
       "08-05-18         3\n",
       "08-06-18         1\n",
       "Name: date_added, Length: 124, dtype: int64"
      ]
     },
     "execution_count": 206,
     "metadata": {},
     "output_type": "execute_result"
    }
   ],
   "source": [
    "data.date_added.value_counts()"
   ]
  },
  {
   "cell_type": "markdown",
   "metadata": {},
   "source": [
    "The format seems to be either \"mm-dd-yyyy\" or \"mm-dd-yy\". We can do solve this problem in this way:"
   ]
  },
  {
   "cell_type": "code",
   "execution_count": 207,
   "metadata": {},
   "outputs": [],
   "source": [
    "data[\"partial_date\"] = pd.to_datetime(data.date_added, format = '%m-%d-%y', errors='coerce')"
   ]
  },
  {
   "cell_type": "markdown",
   "metadata": {},
   "source": [
    "Using this, we converted one of the formats. And the formats that were not able to be converted were replaced with NULLs. Now, we can apply the next format to only the nulls."
   ]
  },
  {
   "cell_type": "code",
   "execution_count": 208,
   "metadata": {},
   "outputs": [
    {
     "data": {
      "text/plain": [
       "0   2019-02-04\n",
       "1   2019-05-04\n",
       "2          NaT\n",
       "3   2019-04-05\n",
       "4   2019-07-10\n",
       "Name: partial_date, dtype: datetime64[ns]"
      ]
     },
     "execution_count": 208,
     "metadata": {},
     "output_type": "execute_result"
    }
   ],
   "source": [
    "data[\"partial_date\"].head()"
   ]
  },
  {
   "cell_type": "code",
   "execution_count": 209,
   "metadata": {},
   "outputs": [],
   "source": [
    "data.partial_date.update(pd.to_datetime(data[data[\"partial_date\"].isnull()].date_added, format=\"%m-%d-%Y\"))"
   ]
  },
  {
   "cell_type": "code",
   "execution_count": 210,
   "metadata": {},
   "outputs": [
    {
     "data": {
      "text/plain": [
       "0"
      ]
     },
     "execution_count": 210,
     "metadata": {},
     "output_type": "execute_result"
    }
   ],
   "source": [
    "data.partial_date.isnull().sum()"
   ]
  },
  {
   "cell_type": "markdown",
   "metadata": {},
   "source": [
    "No more nulls remaining. Both the date formats were corrected. Now, we will drop the original date_added column and replace it with the new one."
   ]
  },
  {
   "cell_type": "code",
   "execution_count": 211,
   "metadata": {},
   "outputs": [
    {
     "data": {
      "text/html": [
       "<div>\n",
       "<style scoped>\n",
       "    .dataframe tbody tr th:only-of-type {\n",
       "        vertical-align: middle;\n",
       "    }\n",
       "\n",
       "    .dataframe tbody tr th {\n",
       "        vertical-align: top;\n",
       "    }\n",
       "\n",
       "    .dataframe thead th {\n",
       "        text-align: right;\n",
       "    }\n",
       "</style>\n",
       "<table border=\"1\" class=\"dataframe\">\n",
       "  <thead>\n",
       "    <tr style=\"text-align: right;\">\n",
       "      <th></th>\n",
       "      <th>property_id</th>\n",
       "      <th>location_id</th>\n",
       "      <th>property_type</th>\n",
       "      <th>price</th>\n",
       "      <th>location</th>\n",
       "      <th>city</th>\n",
       "      <th>province_name</th>\n",
       "      <th>latitude</th>\n",
       "      <th>longitude</th>\n",
       "      <th>baths</th>\n",
       "      <th>area</th>\n",
       "      <th>purpose</th>\n",
       "      <th>bedrooms</th>\n",
       "      <th>Area Type</th>\n",
       "      <th>Area Size</th>\n",
       "      <th>Area Category</th>\n",
       "      <th>date_added</th>\n",
       "    </tr>\n",
       "  </thead>\n",
       "  <tbody>\n",
       "    <tr>\n",
       "      <th>0</th>\n",
       "      <td>237062</td>\n",
       "      <td>3325</td>\n",
       "      <td>Flat</td>\n",
       "      <td>10000000</td>\n",
       "      <td>G-10</td>\n",
       "      <td>Islamabad</td>\n",
       "      <td>Islamabad Capital</td>\n",
       "      <td>33.679890</td>\n",
       "      <td>73.012640</td>\n",
       "      <td>2</td>\n",
       "      <td>4 Marla</td>\n",
       "      <td>For Sale</td>\n",
       "      <td>2</td>\n",
       "      <td>Marla</td>\n",
       "      <td>4.0</td>\n",
       "      <td>0-5 Marla</td>\n",
       "      <td>2019-02-04</td>\n",
       "    </tr>\n",
       "    <tr>\n",
       "      <th>1</th>\n",
       "      <td>346905</td>\n",
       "      <td>3236</td>\n",
       "      <td>Flat</td>\n",
       "      <td>6900000</td>\n",
       "      <td>E-11</td>\n",
       "      <td>Islamabad</td>\n",
       "      <td>Islamabad Capital</td>\n",
       "      <td>33.700993</td>\n",
       "      <td>72.971492</td>\n",
       "      <td>3</td>\n",
       "      <td>5.6 Marla</td>\n",
       "      <td>For Sale</td>\n",
       "      <td>3</td>\n",
       "      <td>Marla</td>\n",
       "      <td>5.6</td>\n",
       "      <td>5-10 Marla</td>\n",
       "      <td>2019-05-04</td>\n",
       "    </tr>\n",
       "    <tr>\n",
       "      <th>2</th>\n",
       "      <td>386513</td>\n",
       "      <td>764</td>\n",
       "      <td>House</td>\n",
       "      <td>16500000</td>\n",
       "      <td>G-15</td>\n",
       "      <td>Islamabad</td>\n",
       "      <td>Islamabad Capital</td>\n",
       "      <td>33.631486</td>\n",
       "      <td>72.926559</td>\n",
       "      <td>6</td>\n",
       "      <td>8 Marla</td>\n",
       "      <td>For Sale</td>\n",
       "      <td>5</td>\n",
       "      <td>Marla</td>\n",
       "      <td>8.0</td>\n",
       "      <td>5-10 Marla</td>\n",
       "      <td>2019-07-17</td>\n",
       "    </tr>\n",
       "    <tr>\n",
       "      <th>3</th>\n",
       "      <td>656161</td>\n",
       "      <td>340</td>\n",
       "      <td>House</td>\n",
       "      <td>43500000</td>\n",
       "      <td>Bani Gala</td>\n",
       "      <td>Islamabad</td>\n",
       "      <td>Islamabad Capital</td>\n",
       "      <td>33.707573</td>\n",
       "      <td>73.151199</td>\n",
       "      <td>4</td>\n",
       "      <td>2 Kanal</td>\n",
       "      <td>For Sale</td>\n",
       "      <td>4</td>\n",
       "      <td>Kanal</td>\n",
       "      <td>2.0</td>\n",
       "      <td>1-5 Kanal</td>\n",
       "      <td>2019-04-05</td>\n",
       "    </tr>\n",
       "    <tr>\n",
       "      <th>4</th>\n",
       "      <td>841645</td>\n",
       "      <td>3226</td>\n",
       "      <td>House</td>\n",
       "      <td>7000000</td>\n",
       "      <td>DHA Defence</td>\n",
       "      <td>Islamabad</td>\n",
       "      <td>Islamabad Capital</td>\n",
       "      <td>33.492591</td>\n",
       "      <td>73.301339</td>\n",
       "      <td>3</td>\n",
       "      <td>8 Marla</td>\n",
       "      <td>For Sale</td>\n",
       "      <td>3</td>\n",
       "      <td>Marla</td>\n",
       "      <td>8.0</td>\n",
       "      <td>5-10 Marla</td>\n",
       "      <td>2019-07-10</td>\n",
       "    </tr>\n",
       "  </tbody>\n",
       "</table>\n",
       "</div>"
      ],
      "text/plain": [
       "   property_id  location_id property_type     price     location       city  \\\n",
       "0       237062         3325          Flat  10000000         G-10  Islamabad   \n",
       "1       346905         3236          Flat   6900000         E-11  Islamabad   \n",
       "2       386513          764         House  16500000         G-15  Islamabad   \n",
       "3       656161          340         House  43500000    Bani Gala  Islamabad   \n",
       "4       841645         3226         House   7000000  DHA Defence  Islamabad   \n",
       "\n",
       "       province_name   latitude  longitude  baths       area   purpose  \\\n",
       "0  Islamabad Capital  33.679890  73.012640      2    4 Marla  For Sale   \n",
       "1  Islamabad Capital  33.700993  72.971492      3  5.6 Marla  For Sale   \n",
       "2  Islamabad Capital  33.631486  72.926559      6    8 Marla  For Sale   \n",
       "3  Islamabad Capital  33.707573  73.151199      4    2 Kanal  For Sale   \n",
       "4  Islamabad Capital  33.492591  73.301339      3    8 Marla  For Sale   \n",
       "\n",
       "   bedrooms Area Type  Area Size Area Category date_added  \n",
       "0         2     Marla        4.0     0-5 Marla 2019-02-04  \n",
       "1         3     Marla        5.6    5-10 Marla 2019-05-04  \n",
       "2         5     Marla        8.0    5-10 Marla 2019-07-17  \n",
       "3         4     Kanal        2.0     1-5 Kanal 2019-04-05  \n",
       "4         3     Marla        8.0    5-10 Marla 2019-07-10  "
      ]
     },
     "execution_count": 211,
     "metadata": {},
     "output_type": "execute_result"
    }
   ],
   "source": [
    "data.drop(columns=['date_added'], inplace=True)\n",
    "data.rename(columns={\"partial_date\": \"date_added\"}, inplace=True)\n",
    "data.head()"
   ]
  },
  {
   "cell_type": "code",
   "execution_count": 212,
   "metadata": {},
   "outputs": [
    {
     "data": {
      "text/plain": [
       "168445   2019-07-18\n",
       "163524   2019-07-18\n",
       "163541   2019-07-18\n",
       "163539   2019-07-18\n",
       "163534   2019-07-18\n",
       "            ...    \n",
       "11545    2018-08-07\n",
       "11862    2018-08-06\n",
       "12808    2018-08-05\n",
       "12135    2018-08-05\n",
       "12833    2018-08-05\n",
       "Name: date_added, Length: 168446, dtype: datetime64[ns]"
      ]
     },
     "execution_count": 212,
     "metadata": {},
     "output_type": "execute_result"
    }
   ],
   "source": [
    "data.date_added.sort_values(ascending=False)"
   ]
  },
  {
   "cell_type": "markdown",
   "metadata": {},
   "source": [
    "So, our data is between 5 Aug 2018 and 18 July 2019."
   ]
  },
  {
   "cell_type": "markdown",
   "metadata": {},
   "source": [
    "- #### The Area Size and Area Type should be converted into a common format, for it to make sense. So, we will convert those to Square Yard."
   ]
  },
  {
   "cell_type": "code",
   "execution_count": 213,
   "metadata": {},
   "outputs": [
    {
     "data": {
      "text/plain": [
       "2"
      ]
     },
     "execution_count": 213,
     "metadata": {},
     "output_type": "execute_result"
    }
   ],
   "source": [
    "# Checking if we have any values besides Marla and Kanal\n",
    "data[\"Area Type\"].nunique()"
   ]
  },
  {
   "cell_type": "code",
   "execution_count": 214,
   "metadata": {},
   "outputs": [],
   "source": [
    "def area_correction(type, value):\n",
    "    if type == 'Marla':\n",
    "        area = value*30.25\n",
    "    else:\n",
    "        area = value*605\n",
    "    return area\n",
    "\n",
    "data[\"Area Sqr Yard\"] = data.apply(lambda x: area_correction(x[\"Area Type\"], x[\"Area Size\"]), axis=1)"
   ]
  },
  {
   "cell_type": "markdown",
   "metadata": {},
   "source": [
    "Now, we will also drop the following columns, since it is just redundant information."
   ]
  },
  {
   "cell_type": "code",
   "execution_count": 215,
   "metadata": {},
   "outputs": [
    {
     "data": {
      "text/html": [
       "<div>\n",
       "<style scoped>\n",
       "    .dataframe tbody tr th:only-of-type {\n",
       "        vertical-align: middle;\n",
       "    }\n",
       "\n",
       "    .dataframe tbody tr th {\n",
       "        vertical-align: top;\n",
       "    }\n",
       "\n",
       "    .dataframe thead th {\n",
       "        text-align: right;\n",
       "    }\n",
       "</style>\n",
       "<table border=\"1\" class=\"dataframe\">\n",
       "  <thead>\n",
       "    <tr style=\"text-align: right;\">\n",
       "      <th></th>\n",
       "      <th>property_id</th>\n",
       "      <th>location_id</th>\n",
       "      <th>property_type</th>\n",
       "      <th>price</th>\n",
       "      <th>location</th>\n",
       "      <th>city</th>\n",
       "      <th>province_name</th>\n",
       "      <th>latitude</th>\n",
       "      <th>longitude</th>\n",
       "      <th>baths</th>\n",
       "      <th>purpose</th>\n",
       "      <th>bedrooms</th>\n",
       "      <th>date_added</th>\n",
       "      <th>Area Sqr Yard</th>\n",
       "    </tr>\n",
       "  </thead>\n",
       "  <tbody>\n",
       "    <tr>\n",
       "      <th>0</th>\n",
       "      <td>237062</td>\n",
       "      <td>3325</td>\n",
       "      <td>Flat</td>\n",
       "      <td>10000000</td>\n",
       "      <td>G-10</td>\n",
       "      <td>Islamabad</td>\n",
       "      <td>Islamabad Capital</td>\n",
       "      <td>33.679890</td>\n",
       "      <td>73.012640</td>\n",
       "      <td>2</td>\n",
       "      <td>For Sale</td>\n",
       "      <td>2</td>\n",
       "      <td>2019-02-04</td>\n",
       "      <td>121.0</td>\n",
       "    </tr>\n",
       "    <tr>\n",
       "      <th>1</th>\n",
       "      <td>346905</td>\n",
       "      <td>3236</td>\n",
       "      <td>Flat</td>\n",
       "      <td>6900000</td>\n",
       "      <td>E-11</td>\n",
       "      <td>Islamabad</td>\n",
       "      <td>Islamabad Capital</td>\n",
       "      <td>33.700993</td>\n",
       "      <td>72.971492</td>\n",
       "      <td>3</td>\n",
       "      <td>For Sale</td>\n",
       "      <td>3</td>\n",
       "      <td>2019-05-04</td>\n",
       "      <td>169.4</td>\n",
       "    </tr>\n",
       "    <tr>\n",
       "      <th>2</th>\n",
       "      <td>386513</td>\n",
       "      <td>764</td>\n",
       "      <td>House</td>\n",
       "      <td>16500000</td>\n",
       "      <td>G-15</td>\n",
       "      <td>Islamabad</td>\n",
       "      <td>Islamabad Capital</td>\n",
       "      <td>33.631486</td>\n",
       "      <td>72.926559</td>\n",
       "      <td>6</td>\n",
       "      <td>For Sale</td>\n",
       "      <td>5</td>\n",
       "      <td>2019-07-17</td>\n",
       "      <td>242.0</td>\n",
       "    </tr>\n",
       "    <tr>\n",
       "      <th>3</th>\n",
       "      <td>656161</td>\n",
       "      <td>340</td>\n",
       "      <td>House</td>\n",
       "      <td>43500000</td>\n",
       "      <td>Bani Gala</td>\n",
       "      <td>Islamabad</td>\n",
       "      <td>Islamabad Capital</td>\n",
       "      <td>33.707573</td>\n",
       "      <td>73.151199</td>\n",
       "      <td>4</td>\n",
       "      <td>For Sale</td>\n",
       "      <td>4</td>\n",
       "      <td>2019-04-05</td>\n",
       "      <td>1210.0</td>\n",
       "    </tr>\n",
       "    <tr>\n",
       "      <th>4</th>\n",
       "      <td>841645</td>\n",
       "      <td>3226</td>\n",
       "      <td>House</td>\n",
       "      <td>7000000</td>\n",
       "      <td>DHA Defence</td>\n",
       "      <td>Islamabad</td>\n",
       "      <td>Islamabad Capital</td>\n",
       "      <td>33.492591</td>\n",
       "      <td>73.301339</td>\n",
       "      <td>3</td>\n",
       "      <td>For Sale</td>\n",
       "      <td>3</td>\n",
       "      <td>2019-07-10</td>\n",
       "      <td>242.0</td>\n",
       "    </tr>\n",
       "  </tbody>\n",
       "</table>\n",
       "</div>"
      ],
      "text/plain": [
       "   property_id  location_id property_type     price     location       city  \\\n",
       "0       237062         3325          Flat  10000000         G-10  Islamabad   \n",
       "1       346905         3236          Flat   6900000         E-11  Islamabad   \n",
       "2       386513          764         House  16500000         G-15  Islamabad   \n",
       "3       656161          340         House  43500000    Bani Gala  Islamabad   \n",
       "4       841645         3226         House   7000000  DHA Defence  Islamabad   \n",
       "\n",
       "       province_name   latitude  longitude  baths   purpose  bedrooms  \\\n",
       "0  Islamabad Capital  33.679890  73.012640      2  For Sale         2   \n",
       "1  Islamabad Capital  33.700993  72.971492      3  For Sale         3   \n",
       "2  Islamabad Capital  33.631486  72.926559      6  For Sale         5   \n",
       "3  Islamabad Capital  33.707573  73.151199      4  For Sale         4   \n",
       "4  Islamabad Capital  33.492591  73.301339      3  For Sale         3   \n",
       "\n",
       "  date_added  Area Sqr Yard  \n",
       "0 2019-02-04          121.0  \n",
       "1 2019-05-04          169.4  \n",
       "2 2019-07-17          242.0  \n",
       "3 2019-04-05         1210.0  \n",
       "4 2019-07-10          242.0  "
      ]
     },
     "execution_count": 215,
     "metadata": {},
     "output_type": "execute_result"
    }
   ],
   "source": [
    "data.drop(columns=['Area Type', 'Area Size', 'area'], inplace=True)\n",
    "data.drop(\"Area Category\", axis=1, inplace=True)\n",
    "data.head()"
   ]
  },
  {
   "cell_type": "markdown",
   "metadata": {},
   "source": [
    "Also, province_name does not seem to be useful either. We will save it in a seperate dataframe though, so IF we need it, we can use `df.merge` to join it with our main dataframe."
   ]
  },
  {
   "cell_type": "code",
   "execution_count": 216,
   "metadata": {},
   "outputs": [
    {
     "data": {
      "text/html": [
       "<div>\n",
       "<style scoped>\n",
       "    .dataframe tbody tr th:only-of-type {\n",
       "        vertical-align: middle;\n",
       "    }\n",
       "\n",
       "    .dataframe tbody tr th {\n",
       "        vertical-align: top;\n",
       "    }\n",
       "\n",
       "    .dataframe thead th {\n",
       "        text-align: right;\n",
       "    }\n",
       "</style>\n",
       "<table border=\"1\" class=\"dataframe\">\n",
       "  <thead>\n",
       "    <tr style=\"text-align: right;\">\n",
       "      <th></th>\n",
       "      <th>city</th>\n",
       "      <th>province_name</th>\n",
       "    </tr>\n",
       "  </thead>\n",
       "  <tbody>\n",
       "    <tr>\n",
       "      <th>0</th>\n",
       "      <td>Faisalabad</td>\n",
       "      <td>Punjab</td>\n",
       "    </tr>\n",
       "    <tr>\n",
       "      <th>1</th>\n",
       "      <td>Islamabad</td>\n",
       "      <td>Islamabad Capital</td>\n",
       "    </tr>\n",
       "    <tr>\n",
       "      <th>2</th>\n",
       "      <td>Karachi</td>\n",
       "      <td>Sindh</td>\n",
       "    </tr>\n",
       "    <tr>\n",
       "      <th>3</th>\n",
       "      <td>Lahore</td>\n",
       "      <td>Punjab</td>\n",
       "    </tr>\n",
       "    <tr>\n",
       "      <th>4</th>\n",
       "      <td>Rawalpindi</td>\n",
       "      <td>Punjab</td>\n",
       "    </tr>\n",
       "  </tbody>\n",
       "</table>\n",
       "</div>"
      ],
      "text/plain": [
       "         city      province_name\n",
       "0  Faisalabad             Punjab\n",
       "1   Islamabad  Islamabad Capital\n",
       "2     Karachi              Sindh\n",
       "3      Lahore             Punjab\n",
       "4  Rawalpindi             Punjab"
      ]
     },
     "execution_count": 216,
     "metadata": {},
     "output_type": "execute_result"
    }
   ],
   "source": [
    "provinces = data.groupby(by=['city', 'province_name']).size().reset_index()\n",
    "provinces.drop(columns=0, inplace=True)\n",
    "provinces.head()"
   ]
  },
  {
   "cell_type": "code",
   "execution_count": 217,
   "metadata": {},
   "outputs": [
    {
     "data": {
      "text/html": [
       "<div>\n",
       "<style scoped>\n",
       "    .dataframe tbody tr th:only-of-type {\n",
       "        vertical-align: middle;\n",
       "    }\n",
       "\n",
       "    .dataframe tbody tr th {\n",
       "        vertical-align: top;\n",
       "    }\n",
       "\n",
       "    .dataframe thead th {\n",
       "        text-align: right;\n",
       "    }\n",
       "</style>\n",
       "<table border=\"1\" class=\"dataframe\">\n",
       "  <thead>\n",
       "    <tr style=\"text-align: right;\">\n",
       "      <th></th>\n",
       "      <th>property_id</th>\n",
       "      <th>location_id</th>\n",
       "      <th>property_type</th>\n",
       "      <th>price</th>\n",
       "      <th>location</th>\n",
       "      <th>city</th>\n",
       "      <th>latitude</th>\n",
       "      <th>longitude</th>\n",
       "      <th>baths</th>\n",
       "      <th>purpose</th>\n",
       "      <th>bedrooms</th>\n",
       "      <th>date_added</th>\n",
       "      <th>Area Sqr Yard</th>\n",
       "    </tr>\n",
       "  </thead>\n",
       "  <tbody>\n",
       "    <tr>\n",
       "      <th>0</th>\n",
       "      <td>237062</td>\n",
       "      <td>3325</td>\n",
       "      <td>Flat</td>\n",
       "      <td>10000000</td>\n",
       "      <td>G-10</td>\n",
       "      <td>Islamabad</td>\n",
       "      <td>33.679890</td>\n",
       "      <td>73.012640</td>\n",
       "      <td>2</td>\n",
       "      <td>For Sale</td>\n",
       "      <td>2</td>\n",
       "      <td>2019-02-04</td>\n",
       "      <td>121.0</td>\n",
       "    </tr>\n",
       "    <tr>\n",
       "      <th>1</th>\n",
       "      <td>346905</td>\n",
       "      <td>3236</td>\n",
       "      <td>Flat</td>\n",
       "      <td>6900000</td>\n",
       "      <td>E-11</td>\n",
       "      <td>Islamabad</td>\n",
       "      <td>33.700993</td>\n",
       "      <td>72.971492</td>\n",
       "      <td>3</td>\n",
       "      <td>For Sale</td>\n",
       "      <td>3</td>\n",
       "      <td>2019-05-04</td>\n",
       "      <td>169.4</td>\n",
       "    </tr>\n",
       "    <tr>\n",
       "      <th>2</th>\n",
       "      <td>386513</td>\n",
       "      <td>764</td>\n",
       "      <td>House</td>\n",
       "      <td>16500000</td>\n",
       "      <td>G-15</td>\n",
       "      <td>Islamabad</td>\n",
       "      <td>33.631486</td>\n",
       "      <td>72.926559</td>\n",
       "      <td>6</td>\n",
       "      <td>For Sale</td>\n",
       "      <td>5</td>\n",
       "      <td>2019-07-17</td>\n",
       "      <td>242.0</td>\n",
       "    </tr>\n",
       "    <tr>\n",
       "      <th>3</th>\n",
       "      <td>656161</td>\n",
       "      <td>340</td>\n",
       "      <td>House</td>\n",
       "      <td>43500000</td>\n",
       "      <td>Bani Gala</td>\n",
       "      <td>Islamabad</td>\n",
       "      <td>33.707573</td>\n",
       "      <td>73.151199</td>\n",
       "      <td>4</td>\n",
       "      <td>For Sale</td>\n",
       "      <td>4</td>\n",
       "      <td>2019-04-05</td>\n",
       "      <td>1210.0</td>\n",
       "    </tr>\n",
       "    <tr>\n",
       "      <th>4</th>\n",
       "      <td>841645</td>\n",
       "      <td>3226</td>\n",
       "      <td>House</td>\n",
       "      <td>7000000</td>\n",
       "      <td>DHA Defence</td>\n",
       "      <td>Islamabad</td>\n",
       "      <td>33.492591</td>\n",
       "      <td>73.301339</td>\n",
       "      <td>3</td>\n",
       "      <td>For Sale</td>\n",
       "      <td>3</td>\n",
       "      <td>2019-07-10</td>\n",
       "      <td>242.0</td>\n",
       "    </tr>\n",
       "  </tbody>\n",
       "</table>\n",
       "</div>"
      ],
      "text/plain": [
       "   property_id  location_id property_type     price     location       city  \\\n",
       "0       237062         3325          Flat  10000000         G-10  Islamabad   \n",
       "1       346905         3236          Flat   6900000         E-11  Islamabad   \n",
       "2       386513          764         House  16500000         G-15  Islamabad   \n",
       "3       656161          340         House  43500000    Bani Gala  Islamabad   \n",
       "4       841645         3226         House   7000000  DHA Defence  Islamabad   \n",
       "\n",
       "    latitude  longitude  baths   purpose  bedrooms date_added  Area Sqr Yard  \n",
       "0  33.679890  73.012640      2  For Sale         2 2019-02-04          121.0  \n",
       "1  33.700993  72.971492      3  For Sale         3 2019-05-04          169.4  \n",
       "2  33.631486  72.926559      6  For Sale         5 2019-07-17          242.0  \n",
       "3  33.707573  73.151199      4  For Sale         4 2019-04-05         1210.0  \n",
       "4  33.492591  73.301339      3  For Sale         3 2019-07-10          242.0  "
      ]
     },
     "execution_count": 217,
     "metadata": {},
     "output_type": "execute_result"
    }
   ],
   "source": [
    "data.drop(columns='province_name', inplace=True)\n",
    "data.head()"
   ]
  },
  {
   "cell_type": "markdown",
   "metadata": {},
   "source": [
    "<br><br>\n",
    "### Creating tables which we will use to visualize."
   ]
  },
  {
   "cell_type": "markdown",
   "metadata": {},
   "source": [
    "- #### This dataframe gives us the individual price and location of every single house. Although this is useful, one other dataset that might be more useful would be to create a new table, which would only include one instance of each location ID. "
   ]
  },
  {
   "cell_type": "code",
   "execution_count": 218,
   "metadata": {},
   "outputs": [
    {
     "data": {
      "text/html": [
       "<div>\n",
       "<style scoped>\n",
       "    .dataframe tbody tr th:only-of-type {\n",
       "        vertical-align: middle;\n",
       "    }\n",
       "\n",
       "    .dataframe tbody tr th {\n",
       "        vertical-align: top;\n",
       "    }\n",
       "\n",
       "    .dataframe thead th {\n",
       "        text-align: right;\n",
       "    }\n",
       "</style>\n",
       "<table border=\"1\" class=\"dataframe\">\n",
       "  <thead>\n",
       "    <tr style=\"text-align: right;\">\n",
       "      <th></th>\n",
       "      <th>property_id</th>\n",
       "      <th>location_id</th>\n",
       "      <th>property_type</th>\n",
       "      <th>price</th>\n",
       "      <th>location</th>\n",
       "      <th>city</th>\n",
       "      <th>latitude</th>\n",
       "      <th>longitude</th>\n",
       "      <th>baths</th>\n",
       "      <th>purpose</th>\n",
       "      <th>bedrooms</th>\n",
       "      <th>date_added</th>\n",
       "      <th>Area Sqr Yard</th>\n",
       "      <th>UnitPrice</th>\n",
       "    </tr>\n",
       "  </thead>\n",
       "  <tbody>\n",
       "    <tr>\n",
       "      <th>0</th>\n",
       "      <td>237062</td>\n",
       "      <td>3325</td>\n",
       "      <td>Flat</td>\n",
       "      <td>10000000</td>\n",
       "      <td>G-10</td>\n",
       "      <td>Islamabad</td>\n",
       "      <td>33.679890</td>\n",
       "      <td>73.012640</td>\n",
       "      <td>2</td>\n",
       "      <td>For Sale</td>\n",
       "      <td>2</td>\n",
       "      <td>2019-02-04</td>\n",
       "      <td>121.0</td>\n",
       "      <td>82644.628099</td>\n",
       "    </tr>\n",
       "    <tr>\n",
       "      <th>1</th>\n",
       "      <td>346905</td>\n",
       "      <td>3236</td>\n",
       "      <td>Flat</td>\n",
       "      <td>6900000</td>\n",
       "      <td>E-11</td>\n",
       "      <td>Islamabad</td>\n",
       "      <td>33.700993</td>\n",
       "      <td>72.971492</td>\n",
       "      <td>3</td>\n",
       "      <td>For Sale</td>\n",
       "      <td>3</td>\n",
       "      <td>2019-05-04</td>\n",
       "      <td>169.4</td>\n",
       "      <td>40731.995277</td>\n",
       "    </tr>\n",
       "    <tr>\n",
       "      <th>2</th>\n",
       "      <td>386513</td>\n",
       "      <td>764</td>\n",
       "      <td>House</td>\n",
       "      <td>16500000</td>\n",
       "      <td>G-15</td>\n",
       "      <td>Islamabad</td>\n",
       "      <td>33.631486</td>\n",
       "      <td>72.926559</td>\n",
       "      <td>6</td>\n",
       "      <td>For Sale</td>\n",
       "      <td>5</td>\n",
       "      <td>2019-07-17</td>\n",
       "      <td>242.0</td>\n",
       "      <td>68181.818182</td>\n",
       "    </tr>\n",
       "    <tr>\n",
       "      <th>3</th>\n",
       "      <td>656161</td>\n",
       "      <td>340</td>\n",
       "      <td>House</td>\n",
       "      <td>43500000</td>\n",
       "      <td>Bani Gala</td>\n",
       "      <td>Islamabad</td>\n",
       "      <td>33.707573</td>\n",
       "      <td>73.151199</td>\n",
       "      <td>4</td>\n",
       "      <td>For Sale</td>\n",
       "      <td>4</td>\n",
       "      <td>2019-04-05</td>\n",
       "      <td>1210.0</td>\n",
       "      <td>35950.413223</td>\n",
       "    </tr>\n",
       "    <tr>\n",
       "      <th>4</th>\n",
       "      <td>841645</td>\n",
       "      <td>3226</td>\n",
       "      <td>House</td>\n",
       "      <td>7000000</td>\n",
       "      <td>DHA Defence</td>\n",
       "      <td>Islamabad</td>\n",
       "      <td>33.492591</td>\n",
       "      <td>73.301339</td>\n",
       "      <td>3</td>\n",
       "      <td>For Sale</td>\n",
       "      <td>3</td>\n",
       "      <td>2019-07-10</td>\n",
       "      <td>242.0</td>\n",
       "      <td>28925.619835</td>\n",
       "    </tr>\n",
       "  </tbody>\n",
       "</table>\n",
       "</div>"
      ],
      "text/plain": [
       "   property_id  location_id property_type     price     location       city  \\\n",
       "0       237062         3325          Flat  10000000         G-10  Islamabad   \n",
       "1       346905         3236          Flat   6900000         E-11  Islamabad   \n",
       "2       386513          764         House  16500000         G-15  Islamabad   \n",
       "3       656161          340         House  43500000    Bani Gala  Islamabad   \n",
       "4       841645         3226         House   7000000  DHA Defence  Islamabad   \n",
       "\n",
       "    latitude  longitude  baths   purpose  bedrooms date_added  Area Sqr Yard  \\\n",
       "0  33.679890  73.012640      2  For Sale         2 2019-02-04          121.0   \n",
       "1  33.700993  72.971492      3  For Sale         3 2019-05-04          169.4   \n",
       "2  33.631486  72.926559      6  For Sale         5 2019-07-17          242.0   \n",
       "3  33.707573  73.151199      4  For Sale         4 2019-04-05         1210.0   \n",
       "4  33.492591  73.301339      3  For Sale         3 2019-07-10          242.0   \n",
       "\n",
       "      UnitPrice  \n",
       "0  82644.628099  \n",
       "1  40731.995277  \n",
       "2  68181.818182  \n",
       "3  35950.413223  \n",
       "4  28925.619835  "
      ]
     },
     "execution_count": 218,
     "metadata": {},
     "output_type": "execute_result"
    }
   ],
   "source": [
    "data['UnitPrice'] = data['price'] / data[\"Area Sqr Yard\"] \n",
    "data.head()"
   ]
  },
  {
   "cell_type": "code",
   "execution_count": 219,
   "metadata": {},
   "outputs": [
    {
     "data": {
      "text/plain": [
       "count    168446.000000\n",
       "mean        361.336650\n",
       "std        2734.002481\n",
       "min           0.000000\n",
       "25%         145.200000\n",
       "50%         214.775000\n",
       "75%         363.000000\n",
       "max      484000.000000\n",
       "Name: Area Sqr Yard, dtype: float64"
      ]
     },
     "execution_count": 219,
     "metadata": {},
     "output_type": "execute_result"
    }
   ],
   "source": [
    "data[\"Area Sqr Yard\"].describe()"
   ]
  },
  {
   "cell_type": "markdown",
   "metadata": {},
   "source": [
    "There are some HUGE anomalies, and are very limited. Let us detect these."
   ]
  },
  {
   "cell_type": "code",
   "execution_count": 220,
   "metadata": {},
   "outputs": [
    {
     "data": {
      "text/plain": [
       "<AxesSubplot:ylabel='Area Sqr Yard'>"
      ]
     },
     "execution_count": 220,
     "metadata": {},
     "output_type": "execute_result"
    },
    {
     "data": {
      "image/png": "[encoded data removed]",
      "text/plain": [
       "<Figure size 720x216 with 1 Axes>"
      ]
     },
     "metadata": {
      "needs_background": "light"
     },
     "output_type": "display_data"
    }
   ],
   "source": [
    "fig, ax = plt.subplots(figsize=(10,3))\n",
    "sns.violinplot(y=data[\"Area Sqr Yard\"], scale='count')"
   ]
  },
  {
   "cell_type": "markdown",
   "metadata": {},
   "source": [
    "We cannot even detect them on the violinplot or boxplot. So, they are very few in number. Let us find the 99.99% quantile of the data, and drop the data above it."
   ]
  },
  {
   "cell_type": "code",
   "execution_count": 221,
   "metadata": {},
   "outputs": [
    {
     "data": {
      "text/plain": [
       "60500.0"
      ]
     },
     "execution_count": 221,
     "metadata": {},
     "output_type": "execute_result"
    }
   ],
   "source": [
    "area_sqr_yard = data[\"Area Sqr Yard\"].to_numpy()\n",
    "threshold = np.quantile(area_sqr_yard, 0.9999)\n",
    "threshold"
   ]
  },
  {
   "cell_type": "code",
   "execution_count": 222,
   "metadata": {},
   "outputs": [],
   "source": [
    "data.drop(index = data[data[\"Area Sqr Yard\"]>threshold].index, inplace=True)"
   ]
  },
  {
   "cell_type": "code",
   "execution_count": 223,
   "metadata": {},
   "outputs": [
    {
     "data": {
      "text/plain": [
       "count    168430.000000\n",
       "mean        338.464454\n",
       "std         774.413911\n",
       "min           0.000000\n",
       "25%         145.200000\n",
       "50%         214.775000\n",
       "75%         363.000000\n",
       "max       60500.000000\n",
       "Name: Area Sqr Yard, dtype: float64"
      ]
     },
     "execution_count": 223,
     "metadata": {},
     "output_type": "execute_result"
    }
   ],
   "source": [
    "data[\"Area Sqr Yard\"].describe()"
   ]
  },
  {
   "cell_type": "markdown",
   "metadata": {},
   "source": [
    "There are also a few values with Area of 0. For this, we will also drop these up till Area  = 10 Sq. Yard (0.33 Marla). Values below this are bad for generalizing or just anomalies."
   ]
  },
  {
   "cell_type": "code",
   "execution_count": 224,
   "metadata": {},
   "outputs": [
    {
     "data": {
      "text/plain": [
       "(168407, 14)"
      ]
     },
     "execution_count": 224,
     "metadata": {},
     "output_type": "execute_result"
    }
   ],
   "source": [
    "data.drop(index = data[data[\"Area Sqr Yard\"]<10].index, inplace=True)\n",
    "data.shape"
   ]
  },
  {
   "cell_type": "code",
   "execution_count": 225,
   "metadata": {},
   "outputs": [
    {
     "data": {
      "text/plain": [
       "<AxesSubplot:>"
      ]
     },
     "execution_count": 225,
     "metadata": {},
     "output_type": "execute_result"
    },
    {
     "data": {
      "image/png": "[encoded data removed]",
      "text/plain": [
       "<Figure size 720x720 with 1 Axes>"
      ]
     },
     "metadata": {
      "needs_background": "light"
     },
     "output_type": "display_data"
    }
   ],
   "source": [
    "data[\"Area Sqr Yard\"].hist(figsize=(10,10), bins=1000)"
   ]
  },
  {
   "cell_type": "markdown",
   "metadata": {},
   "source": [
    "The reason why I will not trim this more is because there are a few farmhouses that are huge in size, hence these are not anomalies."
   ]
  },
  {
   "cell_type": "code",
   "execution_count": 226,
   "metadata": {},
   "outputs": [
    {
     "data": {
      "text/plain": [
       "<AxesSubplot:xlabel='latitude'>"
      ]
     },
     "execution_count": 226,
     "metadata": {},
     "output_type": "execute_result"
    },
    {
     "data": {
      "image/png": "[encoded data removed]",
      "text/plain": [
       "<Figure size 720x720 with 2 Axes>"
      ]
     },
     "metadata": {
      "needs_background": "light"
     },
     "output_type": "display_data"
    }
   ],
   "source": [
    "fig, ax = plt.subplots(2,1,figsize=(10,10))\n",
    "sns.boxplot(data['longitude'], ax=ax[0])\n",
    "sns.boxplot(data['latitude'], ax=ax[1])"
   ]
  },
  {
   "cell_type": "markdown",
   "metadata": {},
   "source": [
    "Let us remove these anomalies as well."
   ]
  },
  {
   "cell_type": "code",
   "execution_count": 227,
   "metadata": {},
   "outputs": [
    {
     "data": {
      "text/plain": [
       "(168397, 14)"
      ]
     },
     "execution_count": 227,
     "metadata": {},
     "output_type": "execute_result"
    }
   ],
   "source": [
    "anomaly_index = data[(data[\"longitude\"] < 60) | (data[\"latitude\"]>40) | (data[\"latitude\"]<20)].index\n",
    "data.drop(index=anomaly_index, inplace=True)\n",
    "data.shape"
   ]
  },
  {
   "cell_type": "code",
   "execution_count": 228,
   "metadata": {},
   "outputs": [
    {
     "data": {
      "text/html": [
       "<div>\n",
       "<style scoped>\n",
       "    .dataframe tbody tr th:only-of-type {\n",
       "        vertical-align: middle;\n",
       "    }\n",
       "\n",
       "    .dataframe tbody tr th {\n",
       "        vertical-align: top;\n",
       "    }\n",
       "\n",
       "    .dataframe thead th {\n",
       "        text-align: right;\n",
       "    }\n",
       "</style>\n",
       "<table border=\"1\" class=\"dataframe\">\n",
       "  <thead>\n",
       "    <tr style=\"text-align: right;\">\n",
       "      <th></th>\n",
       "      <th>property_id</th>\n",
       "      <th>location_id</th>\n",
       "      <th>property_type</th>\n",
       "      <th>price</th>\n",
       "      <th>location</th>\n",
       "      <th>city</th>\n",
       "      <th>latitude</th>\n",
       "      <th>longitude</th>\n",
       "      <th>baths</th>\n",
       "      <th>purpose</th>\n",
       "      <th>bedrooms</th>\n",
       "      <th>date_added</th>\n",
       "      <th>Area Sqr Yard</th>\n",
       "      <th>UnitPrice</th>\n",
       "    </tr>\n",
       "  </thead>\n",
       "  <tbody>\n",
       "    <tr>\n",
       "      <th>0</th>\n",
       "      <td>237062</td>\n",
       "      <td>3325</td>\n",
       "      <td>Flat</td>\n",
       "      <td>10000000</td>\n",
       "      <td>G-10</td>\n",
       "      <td>Islamabad</td>\n",
       "      <td>33.679890</td>\n",
       "      <td>73.012640</td>\n",
       "      <td>2</td>\n",
       "      <td>For Sale</td>\n",
       "      <td>2</td>\n",
       "      <td>2019-02-04</td>\n",
       "      <td>121.0</td>\n",
       "      <td>82644.628099</td>\n",
       "    </tr>\n",
       "    <tr>\n",
       "      <th>1</th>\n",
       "      <td>346905</td>\n",
       "      <td>3236</td>\n",
       "      <td>Flat</td>\n",
       "      <td>6900000</td>\n",
       "      <td>E-11</td>\n",
       "      <td>Islamabad</td>\n",
       "      <td>33.700993</td>\n",
       "      <td>72.971492</td>\n",
       "      <td>3</td>\n",
       "      <td>For Sale</td>\n",
       "      <td>3</td>\n",
       "      <td>2019-05-04</td>\n",
       "      <td>169.4</td>\n",
       "      <td>40731.995277</td>\n",
       "    </tr>\n",
       "    <tr>\n",
       "      <th>2</th>\n",
       "      <td>386513</td>\n",
       "      <td>764</td>\n",
       "      <td>House</td>\n",
       "      <td>16500000</td>\n",
       "      <td>G-15</td>\n",
       "      <td>Islamabad</td>\n",
       "      <td>33.631486</td>\n",
       "      <td>72.926559</td>\n",
       "      <td>6</td>\n",
       "      <td>For Sale</td>\n",
       "      <td>5</td>\n",
       "      <td>2019-07-17</td>\n",
       "      <td>242.0</td>\n",
       "      <td>68181.818182</td>\n",
       "    </tr>\n",
       "    <tr>\n",
       "      <th>3</th>\n",
       "      <td>656161</td>\n",
       "      <td>340</td>\n",
       "      <td>House</td>\n",
       "      <td>43500000</td>\n",
       "      <td>Bani Gala</td>\n",
       "      <td>Islamabad</td>\n",
       "      <td>33.707573</td>\n",
       "      <td>73.151199</td>\n",
       "      <td>4</td>\n",
       "      <td>For Sale</td>\n",
       "      <td>4</td>\n",
       "      <td>2019-04-05</td>\n",
       "      <td>1210.0</td>\n",
       "      <td>35950.413223</td>\n",
       "    </tr>\n",
       "    <tr>\n",
       "      <th>4</th>\n",
       "      <td>841645</td>\n",
       "      <td>3226</td>\n",
       "      <td>House</td>\n",
       "      <td>7000000</td>\n",
       "      <td>DHA Defence</td>\n",
       "      <td>Islamabad</td>\n",
       "      <td>33.492591</td>\n",
       "      <td>73.301339</td>\n",
       "      <td>3</td>\n",
       "      <td>For Sale</td>\n",
       "      <td>3</td>\n",
       "      <td>2019-07-10</td>\n",
       "      <td>242.0</td>\n",
       "      <td>28925.619835</td>\n",
       "    </tr>\n",
       "  </tbody>\n",
       "</table>\n",
       "</div>"
      ],
      "text/plain": [
       "   property_id  location_id property_type     price     location       city  \\\n",
       "0       237062         3325          Flat  10000000         G-10  Islamabad   \n",
       "1       346905         3236          Flat   6900000         E-11  Islamabad   \n",
       "2       386513          764         House  16500000         G-15  Islamabad   \n",
       "3       656161          340         House  43500000    Bani Gala  Islamabad   \n",
       "4       841645         3226         House   7000000  DHA Defence  Islamabad   \n",
       "\n",
       "    latitude  longitude  baths   purpose  bedrooms date_added  Area Sqr Yard  \\\n",
       "0  33.679890  73.012640      2  For Sale         2 2019-02-04          121.0   \n",
       "1  33.700993  72.971492      3  For Sale         3 2019-05-04          169.4   \n",
       "2  33.631486  72.926559      6  For Sale         5 2019-07-17          242.0   \n",
       "3  33.707573  73.151199      4  For Sale         4 2019-04-05         1210.0   \n",
       "4  33.492591  73.301339      3  For Sale         3 2019-07-10          242.0   \n",
       "\n",
       "      UnitPrice  \n",
       "0  82644.628099  \n",
       "1  40731.995277  \n",
       "2  68181.818182  \n",
       "3  35950.413223  \n",
       "4  28925.619835  "
      ]
     },
     "execution_count": 228,
     "metadata": {},
     "output_type": "execute_result"
    }
   ],
   "source": [
    "data.head()"
   ]
  },
  {
   "cell_type": "markdown",
   "metadata": {},
   "source": [
    "Another test to check is whether the same location_id is used by more than one location. This is going to cause us problems. Hence, we will drop these from the dataset as well."
   ]
  },
  {
   "cell_type": "code",
   "execution_count": 229,
   "metadata": {},
   "outputs": [],
   "source": [
    "temp = data.groupby(by=[\"location_id\", \"location\"]).size().reset_index()\n",
    "temp_drop = temp[temp['location_id'].duplicated()].index\n",
    "data.drop(index=temp_drop, inplace=True)"
   ]
  },
  {
   "cell_type": "code",
   "execution_count": 241,
   "metadata": {},
   "outputs": [
    {
     "data": {
      "text/html": [
       "<div>\n",
       "<style scoped>\n",
       "    .dataframe tbody tr th:only-of-type {\n",
       "        vertical-align: middle;\n",
       "    }\n",
       "\n",
       "    .dataframe tbody tr th {\n",
       "        vertical-align: top;\n",
       "    }\n",
       "\n",
       "    .dataframe thead th {\n",
       "        text-align: right;\n",
       "    }\n",
       "</style>\n",
       "<table border=\"1\" class=\"dataframe\">\n",
       "  <thead>\n",
       "    <tr style=\"text-align: right;\">\n",
       "      <th></th>\n",
       "      <th>location_id</th>\n",
       "      <th>location</th>\n",
       "      <th>city</th>\n",
       "      <th>purpose</th>\n",
       "      <th>property_type</th>\n",
       "      <th>property_id</th>\n",
       "      <th>price</th>\n",
       "      <th>latitude</th>\n",
       "      <th>longitude</th>\n",
       "      <th>baths</th>\n",
       "      <th>bedrooms</th>\n",
       "      <th>Area Sqr Yard</th>\n",
       "      <th>UnitPrice</th>\n",
       "    </tr>\n",
       "  </thead>\n",
       "  <tbody>\n",
       "    <tr>\n",
       "      <th>0</th>\n",
       "      <td>1</td>\n",
       "      <td>Lahore, Punjab</td>\n",
       "      <td>Lahore</td>\n",
       "      <td>For Sale</td>\n",
       "      <td>House</td>\n",
       "      <td>1.596438e+07</td>\n",
       "      <td>1.525000e+07</td>\n",
       "      <td>31.545771</td>\n",
       "      <td>74.341328</td>\n",
       "      <td>3.500000</td>\n",
       "      <td>3.500000</td>\n",
       "      <td>226.875000</td>\n",
       "      <td>68595.041322</td>\n",
       "    </tr>\n",
       "    <tr>\n",
       "      <th>1</th>\n",
       "      <td>2</td>\n",
       "      <td>Karachi, Sindh</td>\n",
       "      <td>Karachi</td>\n",
       "      <td>For Sale</td>\n",
       "      <td>House</td>\n",
       "      <td>1.566985e+07</td>\n",
       "      <td>1.200000e+07</td>\n",
       "      <td>24.862336</td>\n",
       "      <td>67.013893</td>\n",
       "      <td>4.000000</td>\n",
       "      <td>4.000000</td>\n",
       "      <td>145.200000</td>\n",
       "      <td>82644.628099</td>\n",
       "    </tr>\n",
       "    <tr>\n",
       "      <th>2</th>\n",
       "      <td>3</td>\n",
       "      <td>Islamabad, Islamabad Capital</td>\n",
       "      <td>Islamabad</td>\n",
       "      <td>For Sale</td>\n",
       "      <td>Flat</td>\n",
       "      <td>1.550807e+07</td>\n",
       "      <td>4.300000e+06</td>\n",
       "      <td>33.749464</td>\n",
       "      <td>73.061142</td>\n",
       "      <td>1.000000</td>\n",
       "      <td>1.000000</td>\n",
       "      <td>51.425000</td>\n",
       "      <td>83616.917842</td>\n",
       "    </tr>\n",
       "    <tr>\n",
       "      <th>3</th>\n",
       "      <td>4</td>\n",
       "      <td>Garden Town</td>\n",
       "      <td>Lahore</td>\n",
       "      <td>For Sale</td>\n",
       "      <td>Flat</td>\n",
       "      <td>1.174109e+07</td>\n",
       "      <td>4.200000e+06</td>\n",
       "      <td>31.503922</td>\n",
       "      <td>74.323139</td>\n",
       "      <td>1.000000</td>\n",
       "      <td>1.000000</td>\n",
       "      <td>60.500000</td>\n",
       "      <td>69421.487603</td>\n",
       "    </tr>\n",
       "    <tr>\n",
       "      <th>4</th>\n",
       "      <td>4</td>\n",
       "      <td>Garden Town</td>\n",
       "      <td>Lahore</td>\n",
       "      <td>For Sale</td>\n",
       "      <td>House</td>\n",
       "      <td>1.572257e+07</td>\n",
       "      <td>5.680337e+07</td>\n",
       "      <td>31.503922</td>\n",
       "      <td>74.323139</td>\n",
       "      <td>3.123596</td>\n",
       "      <td>4.393258</td>\n",
       "      <td>694.730337</td>\n",
       "      <td>95561.241276</td>\n",
       "    </tr>\n",
       "  </tbody>\n",
       "</table>\n",
       "</div>"
      ],
      "text/plain": [
       "   location_id                      location       city   purpose  \\\n",
       "0            1                Lahore, Punjab     Lahore  For Sale   \n",
       "1            2                Karachi, Sindh    Karachi  For Sale   \n",
       "2            3  Islamabad, Islamabad Capital  Islamabad  For Sale   \n",
       "3            4                   Garden Town     Lahore  For Sale   \n",
       "4            4                   Garden Town     Lahore  For Sale   \n",
       "\n",
       "  property_type   property_id         price   latitude  longitude     baths  \\\n",
       "0         House  1.596438e+07  1.525000e+07  31.545771  74.341328  3.500000   \n",
       "1         House  1.566985e+07  1.200000e+07  24.862336  67.013893  4.000000   \n",
       "2          Flat  1.550807e+07  4.300000e+06  33.749464  73.061142  1.000000   \n",
       "3          Flat  1.174109e+07  4.200000e+06  31.503922  74.323139  1.000000   \n",
       "4         House  1.572257e+07  5.680337e+07  31.503922  74.323139  3.123596   \n",
       "\n",
       "   bedrooms  Area Sqr Yard     UnitPrice  \n",
       "0  3.500000     226.875000  68595.041322  \n",
       "1  4.000000     145.200000  82644.628099  \n",
       "2  1.000000      51.425000  83616.917842  \n",
       "3  1.000000      60.500000  69421.487603  \n",
       "4  4.393258     694.730337  95561.241276  "
      ]
     },
     "execution_count": 241,
     "metadata": {},
     "output_type": "execute_result"
    }
   ],
   "source": [
    "price_density = data.groupby(['location_id','location', 'city', 'purpose', 'property_type']).mean().reset_index()\n",
    "price_density.head()\n"
   ]
  },
  {
   "cell_type": "markdown",
   "metadata": {},
   "source": [
    "Dropping the meaningless (or useless) columns"
   ]
  },
  {
   "cell_type": "code",
   "execution_count": 242,
   "metadata": {},
   "outputs": [],
   "source": [
    "col = ['property_id', 'baths', 'bedrooms']\n",
    "price_density.drop(columns=col, inplace=True)"
   ]
  },
  {
   "cell_type": "code",
   "execution_count": 243,
   "metadata": {},
   "outputs": [
    {
     "data": {
      "text/html": [
       "<div>\n",
       "<style scoped>\n",
       "    .dataframe tbody tr th:only-of-type {\n",
       "        vertical-align: middle;\n",
       "    }\n",
       "\n",
       "    .dataframe tbody tr th {\n",
       "        vertical-align: top;\n",
       "    }\n",
       "\n",
       "    .dataframe thead th {\n",
       "        text-align: right;\n",
       "    }\n",
       "</style>\n",
       "<table border=\"1\" class=\"dataframe\">\n",
       "  <thead>\n",
       "    <tr style=\"text-align: right;\">\n",
       "      <th></th>\n",
       "      <th>location_id</th>\n",
       "      <th>location</th>\n",
       "      <th>city</th>\n",
       "      <th>purpose</th>\n",
       "      <th>property_type</th>\n",
       "      <th>price</th>\n",
       "      <th>latitude</th>\n",
       "      <th>longitude</th>\n",
       "      <th>Area Sqr Yard</th>\n",
       "      <th>UnitPrice</th>\n",
       "    </tr>\n",
       "  </thead>\n",
       "  <tbody>\n",
       "    <tr>\n",
       "      <th>0</th>\n",
       "      <td>1</td>\n",
       "      <td>Lahore, Punjab</td>\n",
       "      <td>Lahore</td>\n",
       "      <td>For Sale</td>\n",
       "      <td>House</td>\n",
       "      <td>1.525000e+07</td>\n",
       "      <td>31.545771</td>\n",
       "      <td>74.341328</td>\n",
       "      <td>226.875000</td>\n",
       "      <td>68595.041322</td>\n",
       "    </tr>\n",
       "    <tr>\n",
       "      <th>1</th>\n",
       "      <td>2</td>\n",
       "      <td>Karachi, Sindh</td>\n",
       "      <td>Karachi</td>\n",
       "      <td>For Sale</td>\n",
       "      <td>House</td>\n",
       "      <td>1.200000e+07</td>\n",
       "      <td>24.862336</td>\n",
       "      <td>67.013893</td>\n",
       "      <td>145.200000</td>\n",
       "      <td>82644.628099</td>\n",
       "    </tr>\n",
       "    <tr>\n",
       "      <th>2</th>\n",
       "      <td>3</td>\n",
       "      <td>Islamabad, Islamabad Capital</td>\n",
       "      <td>Islamabad</td>\n",
       "      <td>For Sale</td>\n",
       "      <td>Flat</td>\n",
       "      <td>4.300000e+06</td>\n",
       "      <td>33.749464</td>\n",
       "      <td>73.061142</td>\n",
       "      <td>51.425000</td>\n",
       "      <td>83616.917842</td>\n",
       "    </tr>\n",
       "    <tr>\n",
       "      <th>3</th>\n",
       "      <td>4</td>\n",
       "      <td>Garden Town</td>\n",
       "      <td>Lahore</td>\n",
       "      <td>For Sale</td>\n",
       "      <td>Flat</td>\n",
       "      <td>4.200000e+06</td>\n",
       "      <td>31.503922</td>\n",
       "      <td>74.323139</td>\n",
       "      <td>60.500000</td>\n",
       "      <td>69421.487603</td>\n",
       "    </tr>\n",
       "    <tr>\n",
       "      <th>4</th>\n",
       "      <td>4</td>\n",
       "      <td>Garden Town</td>\n",
       "      <td>Lahore</td>\n",
       "      <td>For Sale</td>\n",
       "      <td>House</td>\n",
       "      <td>5.680337e+07</td>\n",
       "      <td>31.503922</td>\n",
       "      <td>74.323139</td>\n",
       "      <td>694.730337</td>\n",
       "      <td>95561.241276</td>\n",
       "    </tr>\n",
       "  </tbody>\n",
       "</table>\n",
       "</div>"
      ],
      "text/plain": [
       "   location_id                      location       city   purpose  \\\n",
       "0            1                Lahore, Punjab     Lahore  For Sale   \n",
       "1            2                Karachi, Sindh    Karachi  For Sale   \n",
       "2            3  Islamabad, Islamabad Capital  Islamabad  For Sale   \n",
       "3            4                   Garden Town     Lahore  For Sale   \n",
       "4            4                   Garden Town     Lahore  For Sale   \n",
       "\n",
       "  property_type         price   latitude  longitude  Area Sqr Yard  \\\n",
       "0         House  1.525000e+07  31.545771  74.341328     226.875000   \n",
       "1         House  1.200000e+07  24.862336  67.013893     145.200000   \n",
       "2          Flat  4.300000e+06  33.749464  73.061142      51.425000   \n",
       "3          Flat  4.200000e+06  31.503922  74.323139      60.500000   \n",
       "4         House  5.680337e+07  31.503922  74.323139     694.730337   \n",
       "\n",
       "      UnitPrice  \n",
       "0  68595.041322  \n",
       "1  82644.628099  \n",
       "2  83616.917842  \n",
       "3  69421.487603  \n",
       "4  95561.241276  "
      ]
     },
     "execution_count": 243,
     "metadata": {},
     "output_type": "execute_result"
    }
   ],
   "source": [
    "price_density.head()"
   ]
  },
  {
   "cell_type": "code",
   "execution_count": 244,
   "metadata": {},
   "outputs": [
    {
     "data": {
      "text/plain": [
       "(9427, 10)"
      ]
     },
     "execution_count": 244,
     "metadata": {},
     "output_type": "execute_result"
    }
   ],
   "source": [
    "price_density.shape"
   ]
  },
  {
   "cell_type": "code",
   "execution_count": 248,
   "metadata": {},
   "outputs": [],
   "source": [
    "price_density.to_csv(\"price_density.csv\")"
   ]
  },
  {
   "cell_type": "code",
   "execution_count": 249,
   "metadata": {},
   "outputs": [],
   "source": [
    "price_density2 = data.groupby(['location', 'city', 'purpose', 'property_type']).mean().reset_index()\n",
    "col = ['property_id', 'baths', 'bedrooms']\n",
    "price_density2.drop(columns=col, inplace=True)"
   ]
  },
  {
   "cell_type": "code",
   "execution_count": 250,
   "metadata": {},
   "outputs": [
    {
     "data": {
      "text/html": [
       "<div>\n",
       "<style scoped>\n",
       "    .dataframe tbody tr th:only-of-type {\n",
       "        vertical-align: middle;\n",
       "    }\n",
       "\n",
       "    .dataframe tbody tr th {\n",
       "        vertical-align: top;\n",
       "    }\n",
       "\n",
       "    .dataframe thead th {\n",
       "        text-align: right;\n",
       "    }\n",
       "</style>\n",
       "<table border=\"1\" class=\"dataframe\">\n",
       "  <thead>\n",
       "    <tr style=\"text-align: right;\">\n",
       "      <th></th>\n",
       "      <th>location</th>\n",
       "      <th>city</th>\n",
       "      <th>purpose</th>\n",
       "      <th>property_type</th>\n",
       "      <th>location_id</th>\n",
       "      <th>price</th>\n",
       "      <th>latitude</th>\n",
       "      <th>longitude</th>\n",
       "      <th>Area Sqr Yard</th>\n",
       "      <th>UnitPrice</th>\n",
       "    </tr>\n",
       "  </thead>\n",
       "  <tbody>\n",
       "    <tr>\n",
       "      <th>0</th>\n",
       "      <td>12th Avenue</td>\n",
       "      <td>Islamabad</td>\n",
       "      <td>For Rent</td>\n",
       "      <td>Penthouse</td>\n",
       "      <td>12288.0</td>\n",
       "      <td>4.000000e+04</td>\n",
       "      <td>33.624151</td>\n",
       "      <td>72.996002</td>\n",
       "      <td>302.500000</td>\n",
       "      <td>132.231405</td>\n",
       "    </tr>\n",
       "    <tr>\n",
       "      <th>1</th>\n",
       "      <td>12th Avenue</td>\n",
       "      <td>Islamabad</td>\n",
       "      <td>For Rent</td>\n",
       "      <td>Upper Portion</td>\n",
       "      <td>12288.0</td>\n",
       "      <td>4.000000e+04</td>\n",
       "      <td>33.624151</td>\n",
       "      <td>72.996002</td>\n",
       "      <td>423.500000</td>\n",
       "      <td>94.451004</td>\n",
       "    </tr>\n",
       "    <tr>\n",
       "      <th>2</th>\n",
       "      <td>12th Avenue</td>\n",
       "      <td>Islamabad</td>\n",
       "      <td>For Sale</td>\n",
       "      <td>Flat</td>\n",
       "      <td>12288.0</td>\n",
       "      <td>3.000000e+07</td>\n",
       "      <td>33.624151</td>\n",
       "      <td>72.996002</td>\n",
       "      <td>281.325000</td>\n",
       "      <td>106638.229805</td>\n",
       "    </tr>\n",
       "    <tr>\n",
       "      <th>3</th>\n",
       "      <td>204 Chak Road</td>\n",
       "      <td>Faisalabad</td>\n",
       "      <td>For Rent</td>\n",
       "      <td>House</td>\n",
       "      <td>9511.0</td>\n",
       "      <td>3.500000e+04</td>\n",
       "      <td>31.404153</td>\n",
       "      <td>73.136959</td>\n",
       "      <td>151.250000</td>\n",
       "      <td>231.404959</td>\n",
       "    </tr>\n",
       "    <tr>\n",
       "      <th>4</th>\n",
       "      <td>204 Chak Road</td>\n",
       "      <td>Faisalabad</td>\n",
       "      <td>For Sale</td>\n",
       "      <td>House</td>\n",
       "      <td>9511.0</td>\n",
       "      <td>1.162857e+07</td>\n",
       "      <td>31.406337</td>\n",
       "      <td>73.136860</td>\n",
       "      <td>204.403571</td>\n",
       "      <td>56240.250011</td>\n",
       "    </tr>\n",
       "  </tbody>\n",
       "</table>\n",
       "</div>"
      ],
      "text/plain": [
       "        location        city   purpose  property_type  location_id  \\\n",
       "0    12th Avenue   Islamabad  For Rent      Penthouse      12288.0   \n",
       "1    12th Avenue   Islamabad  For Rent  Upper Portion      12288.0   \n",
       "2    12th Avenue   Islamabad  For Sale           Flat      12288.0   \n",
       "3  204 Chak Road  Faisalabad  For Rent          House       9511.0   \n",
       "4  204 Chak Road  Faisalabad  For Sale          House       9511.0   \n",
       "\n",
       "          price   latitude  longitude  Area Sqr Yard      UnitPrice  \n",
       "0  4.000000e+04  33.624151  72.996002     302.500000     132.231405  \n",
       "1  4.000000e+04  33.624151  72.996002     423.500000      94.451004  \n",
       "2  3.000000e+07  33.624151  72.996002     281.325000  106638.229805  \n",
       "3  3.500000e+04  31.404153  73.136959     151.250000     231.404959  \n",
       "4  1.162857e+07  31.406337  73.136860     204.403571   56240.250011  "
      ]
     },
     "execution_count": 250,
     "metadata": {},
     "output_type": "execute_result"
    }
   ],
   "source": [
    "price_density2.head()"
   ]
  },
  {
   "cell_type": "code",
   "execution_count": 251,
   "metadata": {},
   "outputs": [],
   "source": [
    "price_density2.to_csv(\"price_density2.csv\")"
   ]
  }
 ],
 "metadata": {
  "interpreter": {
   "hash": "1e56a0adf9617b8ce77a3a9c584aef02e08ebc698698d9d95d8fd08b26eda904"
  },
  "kernelspec": {
   "display_name": "Python 3.9.10 ('minimal_ds')",
   "language": "python",
   "name": "python3"
  },
  "language_info": {
   "codemirror_mode": {
    "name": "ipython",
    "version": 3
   },
   "file_extension": ".py",
   "mimetype": "text/x-python",
   "name": "python",
   "nbconvert_exporter": "python",
   "pygments_lexer": "ipython3",
   "version": "3.9.10"
  },
  "orig_nbformat": 4
 },
 "nbformat": 4,
 "nbformat_minor": 2
}
